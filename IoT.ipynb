{
 "cells": [
  {
   "cell_type": "markdown",
   "id": "e07c0817-a49a-42cf-b84e-6bd1ef4528a0",
   "metadata": {},
   "source": [
    "# Import Libraries"
   ]
  },
  {
   "cell_type": "code",
   "execution_count": null,
   "id": "55daed75-7ad5-4537-b9db-63486428d567",
   "metadata": {},
   "outputs": [],
   "source": [
    "import numpy as np\n",
    "import pandas as pd\n",
    "import seaborn as sns\n",
    "import tensorflow as tf\n",
    "import matplotlib.pyplot as plt\n",
    "from tensorflow.keras.models import Sequential\n",
    "from tensorflow.keras.layers import LSTM, Dense\n",
    "from sklearn.preprocessing import MinMaxScaler\n",
    "from tensorflow.keras.callbacks import EarlyStopping\n",
    "from sklearn.metrics import r2_score"
   ]
  },
  {
   "cell_type": "markdown",
   "id": "bf23a78a-d0e9-4dc3-bf50-96713986a60f",
   "metadata": {},
   "source": [
    "# Load Data"
   ]
  },
  {
   "cell_type": "code",
   "execution_count": null,
   "id": "e19eba90-8b0a-432c-b4d7-2bf2cb2e9f15",
   "metadata": {},
   "outputs": [],
   "source": [
    "df = pd.read_csv(\"/mnt/hdd/Datasets/IOT-temp.csv\")\n",
    "df.head()"
   ]
  },
  {
   "cell_type": "code",
   "execution_count": null,
   "id": "a4b7e161-5779-4621-8c9f-248ac8f83c7c",
   "metadata": {},
   "outputs": [],
   "source": [
    "df.shape"
   ]
  },
  {
   "cell_type": "code",
   "execution_count": null,
   "id": "7ade4ff4-c28d-43a6-a722-b38b37043452",
   "metadata": {},
   "outputs": [],
   "source": [
    "df.info()"
   ]
  },
  {
   "cell_type": "code",
   "execution_count": null,
   "id": "f9db2d23-611c-4eec-b564-d4e4add7db2c",
   "metadata": {},
   "outputs": [],
   "source": [
    "df.isnull().sum()"
   ]
  },
  {
   "cell_type": "code",
   "execution_count": null,
   "id": "4f09491c-b075-4b45-b606-6944626618de",
   "metadata": {},
   "outputs": [],
   "source": [
    "df.duplicated().sum()"
   ]
  },
  {
   "cell_type": "code",
   "execution_count": null,
   "id": "d12679f8-2753-4ad0-ab20-d12aef59f3d5",
   "metadata": {},
   "outputs": [],
   "source": [
    "df.drop_duplicates(inplace=True)"
   ]
  },
  {
   "cell_type": "markdown",
   "id": "a76a9db4-1ebd-43ea-80bc-face8ae8a2d8",
   "metadata": {},
   "source": [
    "# EDA"
   ]
  },
  {
   "cell_type": "code",
   "execution_count": null,
   "id": "a964864f-9512-46cf-959c-a2d1e4fb8135",
   "metadata": {},
   "outputs": [],
   "source": [
    "df[\"noted_date\"] = pd.to_datetime(df[\"noted_date\"], format=\"%d-%m-%Y %H:%M\")\n",
    "df[\"year\"] = df[\"noted_date\"].apply(lambda date: date.year)\n",
    "df[\"month\"] = df[\"noted_date\"].apply(lambda date: date.month)\n",
    "df[\"day\"] = df[\"noted_date\"].apply(lambda date: date.day_name())\n",
    "df[\"week_of_year\"] = df[\"noted_date\"].apply(lambda date: date.weekofyear)\n",
    "df[\"hour\"] = df[\"noted_date\"].apply(lambda date: date.hour)\n",
    "df[\"minute\"] = df[\"noted_date\"].apply(lambda date: date.minute)"
   ]
  },
  {
   "cell_type": "code",
   "execution_count": null,
   "id": "d737e79e-0cfb-42d7-89ec-240480ee0e20",
   "metadata": {},
   "outputs": [],
   "source": [
    "df.head()"
   ]
  },
  {
   "cell_type": "code",
   "execution_count": null,
   "id": "5aff1b31-6d0e-4a0c-b254-e81f9d8c1cb5",
   "metadata": {},
   "outputs": [],
   "source": [
    "df[\"room_id/id\"].value_counts()"
   ]
  },
  {
   "cell_type": "code",
   "execution_count": null,
   "id": "31b21baf-da14-4aa9-a5e8-77028c37b356",
   "metadata": {},
   "outputs": [],
   "source": [
    "df.drop([\"id\", \"room_id/id\"], axis=1, inplace=True)"
   ]
  },
  {
   "cell_type": "code",
   "execution_count": null,
   "id": "ed078fd0-3fb7-4637-909b-9392ad3940ea",
   "metadata": {},
   "outputs": [],
   "source": [
    "df.head()"
   ]
  },
  {
   "cell_type": "code",
   "execution_count": null,
   "id": "9bb8743f-58de-44d8-8771-795eb2f91010",
   "metadata": {},
   "outputs": [],
   "source": [
    "monthly_temp_mean = df.groupby([\"out/in\", \"month\"], as_index=False)[[\"temp\"]].mean()\n",
    "monthly_temp_mean"
   ]
  },
  {
   "cell_type": "code",
   "execution_count": null,
   "id": "26bff741-ebb6-4c7a-913c-360428718a92",
   "metadata": {},
   "outputs": [],
   "source": [
    "plt.figure(figsize=(14, 5))\n",
    "ax = sns.barplot(data=monthly_temp_mean, x=\"month\", y=\"temp\", hue=\"out/in\")\n",
    "for container in ax.containers:\n",
    "    ax.bar_label(container)\n",
    "plt.title(\"Monthly Average Temperature\")\n",
    "plt.show()"
   ]
  },
  {
   "cell_type": "code",
   "execution_count": null,
   "id": "e4e8741a-8e0c-4099-81db-2f2d06f6b203",
   "metadata": {},
   "outputs": [],
   "source": [
    "plt.figure(figsize=(14, 5))\n",
    "sns.lineplot(data=monthly_temp_mean, x=\"month\", y=\"temp\", hue=\"out/in\")\n",
    "plt.title(\"Monthly Average Temperature\")\n",
    "plt.grid()\n",
    "plt.show()"
   ]
  },
  {
   "cell_type": "code",
   "execution_count": null,
   "id": "847c8f07-90e0-4fdd-9705-140232f6670d",
   "metadata": {},
   "outputs": [],
   "source": [
    "weekly_temp_mean = df[df[\"month\"] == 10].groupby([\"week_of_year\", \"day\", \"out/in\"], as_index=False)[[\"temp\"]].mean()\n",
    "weekly_temp_mean"
   ]
  },
  {
   "cell_type": "code",
   "execution_count": null,
   "id": "6503b253-5d2d-4ca5-b153-98fd54706057",
   "metadata": {},
   "outputs": [],
   "source": [
    "for week in weekly_temp_mean[\"week_of_year\"].unique():\n",
    "    weekly_temp = weekly_temp_mean[weekly_temp_mean[\"week_of_year\"] == week]\n",
    "    plt.figure(figsize=(14, 5))\n",
    "    ax = sns.barplot(data=weekly_temp, x=\"day\", y=\"temp\", hue=\"out/in\")\n",
    "    for container in ax.containers:\n",
    "        ax.bar_label(container)\n",
    "    plt.title(f\"Month: 10, Week of Year: {week} Average Temperature\")\n",
    "    plt.show()\n",
    "\n",
    "    plt.figure(figsize=(14, 5))\n",
    "    sns.kdeplot(data=weekly_temp, x=\"temp\", hue=\"out/in\", fill=True)\n",
    "    plt.title(f\"Month: 10, Week of Year: {week} Average Temperature\")\n",
    "    plt.show()"
   ]
  },
  {
   "cell_type": "code",
   "execution_count": null,
   "id": "b4f84b63-3368-43fe-b307-af0cb1462c5e",
   "metadata": {},
   "outputs": [],
   "source": [
    "plt.figure()\n",
    "ax = sns.countplot(data=df, x=\"out/in\")\n",
    "ax.bar_label(ax.containers[0])\n",
    "plt.title(\"Place Count\")\n",
    "plt.show()"
   ]
  },
  {
   "cell_type": "code",
   "execution_count": null,
   "id": "7d1be30d-2faf-4f38-b625-7aed3e4216c3",
   "metadata": {},
   "outputs": [],
   "source": [
    "weekofyear_temp_mean = df.groupby([\"week_of_year\", \"out/in\"], as_index=False)[[\"temp\"]].mean()\n",
    "weekofyear_temp_mean"
   ]
  },
  {
   "cell_type": "code",
   "execution_count": null,
   "id": "7bb09c41-5bf6-4a9c-8cf2-8b98a350d1f1",
   "metadata": {},
   "outputs": [],
   "source": [
    "plt.figure(figsize=(14, 5))\n",
    "sns.lineplot(data=weekofyear_temp_mean, x=\"week_of_year\", y=\"temp\", hue=\"out/in\")\n",
    "plt.title(\"Week of Year Average Temperature\")\n",
    "plt.show()"
   ]
  },
  {
   "cell_type": "markdown",
   "id": "ab615df6-b130-4486-b618-094efc385d63",
   "metadata": {},
   "source": [
    "# Preprocess"
   ]
  },
  {
   "cell_type": "code",
   "execution_count": null,
   "id": "e8b417c9-859e-4c7d-acdb-69045663df3f",
   "metadata": {},
   "outputs": [],
   "source": [
    "df.head()"
   ]
  },
  {
   "cell_type": "code",
   "execution_count": null,
   "id": "a3dcbeb1-de5c-49b1-bb7b-e99645a15733",
   "metadata": {},
   "outputs": [],
   "source": [
    "in_temperatures = temp_df[temp_df[\"out/in\"] == \"In\"][[\"temp\"]]\n",
    "out_temperatures = temp_df[temp_df[\"out/in\"] == \"Out\"][[\"temp\"]]"
   ]
  },
  {
   "cell_type": "code",
   "execution_count": null,
   "id": "115ac576-8ffa-42ac-addb-095ca049c821",
   "metadata": {},
   "outputs": [],
   "source": [
    "in_temperatures = np.array(in_temperatures).reshape(-1, 1)\n",
    "out_temperatures = np.array(out_temperatures).reshape(-1, 1)"
   ]
  },
  {
   "cell_type": "code",
   "execution_count": null,
   "id": "cb345f3e-332c-45a2-8d73-09b4ef6359ba",
   "metadata": {},
   "outputs": [],
   "source": [
    "in_scaler = MinMaxScaler()\n",
    "out_scaler = MinMaxScaler()\n",
    "\n",
    "in_temperatures_scaled = in_scaler.fit_transform(in_temperatures)\n",
    "out_temperatures_scaled = out_scaler.fit_transform(out_temperatures)"
   ]
  },
  {
   "cell_type": "code",
   "execution_count": null,
   "id": "bcec9af0-b54c-4486-8838-f96b1ee235e1",
   "metadata": {},
   "outputs": [],
   "source": [
    "in_train_size = int(len(in_temperatures_scaled) * 0.8)\n",
    "out_train_size = int(len(out_temperatures_scaled) * 0.8)"
   ]
  },
  {
   "cell_type": "code",
   "execution_count": null,
   "id": "2d0781ae-7373-4335-b6b0-1a4ae05c8afd",
   "metadata": {},
   "outputs": [],
   "source": [
    "in_test_size = len(in_temperatures_scaled) - in_train_size\n",
    "out_test_size = len(out_temperatures_scaled) - out_train_size"
   ]
  },
  {
   "cell_type": "code",
   "execution_count": null,
   "id": "f00f44e1-bde1-4f75-8104-f4a29d876240",
   "metadata": {},
   "outputs": [],
   "source": [
    "print(\"In Train Size:\", in_train_size)\n",
    "print(\"In Test Size:\", in_test_size)\n",
    "print(\"Out Train Size:\", out_train_size)\n",
    "print(\"Out Test Size:\", out_test_size)"
   ]
  },
  {
   "cell_type": "code",
   "execution_count": null,
   "id": "754147a9-a5d0-4b34-be0e-84e90cc3d7d4",
   "metadata": {},
   "outputs": [],
   "source": [
    "in_train = in_temperatures_scaled[0:in_train_size, :]\n",
    "in_test = in_temperatures_scaled[in_train_size:len(in_temperatures_scaled), :]"
   ]
  },
  {
   "cell_type": "code",
   "execution_count": null,
   "id": "3eb31653-d3a0-4513-81a4-d1af5498fd74",
   "metadata": {},
   "outputs": [],
   "source": [
    "out_train = out_temperatures_scaled[0:out_train_size, :]\n",
    "out_test = out_temperatures_scaled[out_train_size:len(out_temperatures_scaled), :]"
   ]
  },
  {
   "cell_type": "code",
   "execution_count": null,
   "id": "72cf5bc6-0e12-43c3-bb98-27f655135391",
   "metadata": {},
   "outputs": [],
   "source": [
    "def dataset(data, steps=1):\n",
    "    data_x, data_y = [], []\n",
    "    for i in range(len(data) - steps - 1):\n",
    "        a = data[i:(i + steps), 0]\n",
    "        b = data[i + steps, 0]\n",
    "        data_x.append(a)\n",
    "        data_y.append(b)\n",
    "\n",
    "    data_x = np.array(data_x)\n",
    "    data_y = np.array(data_y)\n",
    "    return data_x, data_y"
   ]
  },
  {
   "cell_type": "code",
   "execution_count": null,
   "id": "adf2d3da-7c6a-4973-9057-6d6be9130928",
   "metadata": {},
   "outputs": [],
   "source": [
    "X_train_in, y_train_in = dataset(in_train)\n",
    "X_test_in, y_test_in = dataset(in_test)"
   ]
  },
  {
   "cell_type": "code",
   "execution_count": null,
   "id": "57b03eec-60af-4105-bdcb-248f0bc754a1",
   "metadata": {},
   "outputs": [],
   "source": [
    "X_train_out, y_train_out = dataset(out_train)\n",
    "X_test_out, y_test_out = dataset(out_test)"
   ]
  },
  {
   "cell_type": "markdown",
   "id": "5c447023-9696-4028-bac8-97aa84d1e39b",
   "metadata": {},
   "source": [
    "# Model"
   ]
  },
  {
   "cell_type": "code",
   "execution_count": null,
   "id": "f81bc15e-ac28-41d0-8f5c-875b2a69ce83",
   "metadata": {},
   "outputs": [],
   "source": [
    "in_model = Sequential()\n",
    "in_model.add(LSTM(16, input_shape=(1, 1)))\n",
    "in_model.add(Dense(1))\n",
    "in_model.compile(loss=\"mean_squared_error\", optimizer=\"adam\", metrics=[\"accuracy\"])"
   ]
  },
  {
   "cell_type": "code",
   "execution_count": null,
   "id": "e23b48ba-4b4c-4ea1-a8ab-52b02025c5e6",
   "metadata": {},
   "outputs": [],
   "source": [
    "out_model = Sequential()\n",
    "out_model.add(LSTM(64, input_shape=(1, 1)))\n",
    "out_model.add(Dense(1))\n",
    "out_model.compile(loss=\"mean_squared_error\", optimizer=\"adam\", metrics=[\"accuracy\"])"
   ]
  },
  {
   "cell_type": "code",
   "execution_count": null,
   "id": "15e2c8b1-36b2-45bf-b394-f0a6efed1b8c",
   "metadata": {},
   "outputs": [],
   "source": [
    "early = EarlyStopping(monitor=\"val_loss\", patience=3)"
   ]
  },
  {
   "cell_type": "code",
   "execution_count": null,
   "id": "ff4b1be6-44f5-4fe6-9817-645061cbbdd2",
   "metadata": {},
   "outputs": [],
   "source": [
    "in_history = in_model.fit(X_train_in, y_train_in, epochs=100, validation_split=0.2, callbacks=[early])"
   ]
  },
  {
   "cell_type": "code",
   "execution_count": null,
   "id": "bca1c69c-ea87-444d-bea9-74b825ee99d8",
   "metadata": {},
   "outputs": [],
   "source": [
    "in_model.save(\"in_iot.h5\")"
   ]
  },
  {
   "cell_type": "code",
   "execution_count": null,
   "id": "dc5737c2-9245-4abe-85a3-4fcf2a583f7a",
   "metadata": {},
   "outputs": [],
   "source": [
    "out_history = out_model.fit(X_train_out, y_train_out, epochs=100, validation_split=0.2, callbacks=[early])"
   ]
  },
  {
   "cell_type": "code",
   "execution_count": null,
   "id": "e00245ec-aa59-4c0e-bd9d-f2a71b237be5",
   "metadata": {},
   "outputs": [],
   "source": [
    "out_model.save(\"out_iot.h5\")"
   ]
  },
  {
   "cell_type": "markdown",
   "id": "9b5d8e9f-ed63-4e26-adce-cbd9297ef52a",
   "metadata": {},
   "source": [
    "# Predict"
   ]
  },
  {
   "cell_type": "code",
   "execution_count": null,
   "id": "a3bd1c47-cda4-4c13-9f20-22fc8745532c",
   "metadata": {},
   "outputs": [],
   "source": [
    "y_pred_in = in_model.predict(X_test_in)\n",
    "y_pred_in = in_scaler.inverse_transform(y_pred_in)\n",
    "\n",
    "y_test_in = y_test_in.reshape(-1, 1)\n",
    "y_test_in = in_scaler.inverse_transform(y_test_in)\n",
    "print(\"R2 Score:\", r2_score(y_test_in, y_pred_in))"
   ]
  },
  {
   "cell_type": "code",
   "execution_count": null,
   "id": "f883eb0c-efd8-41a1-b874-8e1e92893d57",
   "metadata": {},
   "outputs": [],
   "source": [
    "plt.figure(figsize=(13, 4))\n",
    "plt.plot(y_test_in, label=\"Actual\")\n",
    "plt.plot(y_pred_in, label=\"Predicted\")\n",
    "plt.title(\"Predicted vs Actual (In)\")\n",
    "plt.legend()\n",
    "plt.show()"
   ]
  },
  {
   "cell_type": "code",
   "execution_count": null,
   "id": "570f238a-9097-48a1-9137-21d55f34b878",
   "metadata": {},
   "outputs": [],
   "source": [
    "y_pred_out = out_model.predict(X_test_out)\n",
    "y_pred_out = out_scaler.inverse_transform(y_pred_out)\n",
    "\n",
    "y_test_out = y_test_out.reshape(-1, 1)\n",
    "y_test_out = out_scaler.inverse_transform(y_test_out)\n",
    "print(\"R2 Score:\", r2_score(y_test_out, y_pred_out))"
   ]
  },
  {
   "cell_type": "code",
   "execution_count": null,
   "id": "55816016-1551-4bfc-b18f-250ac138b9f6",
   "metadata": {},
   "outputs": [],
   "source": [
    "plt.figure(figsize=(13, 4))\n",
    "plt.plot(y_test_out, label=\"Actual\")\n",
    "plt.plot(y_pred_out, label=\"Predicted\")\n",
    "plt.title(\"Predicted vs Actual (Out)\")\n",
    "plt.legend()\n",
    "plt.show()"
   ]
  },
  {
   "cell_type": "code",
   "execution_count": null,
   "id": "57397730-dd48-48dd-846f-b535820ca853",
   "metadata": {},
   "outputs": [],
   "source": []
  }
 ],
 "metadata": {
  "kernelspec": {
   "display_name": "Python 3 (ipykernel)",
   "language": "python",
   "name": "python3"
  },
  "language_info": {
   "codemirror_mode": {
    "name": "ipython",
    "version": 3
   },
   "file_extension": ".py",
   "mimetype": "text/x-python",
   "name": "python",
   "nbconvert_exporter": "python",
   "pygments_lexer": "ipython3",
   "version": "3.10.12"
  }
 },
 "nbformat": 4,
 "nbformat_minor": 5
}
